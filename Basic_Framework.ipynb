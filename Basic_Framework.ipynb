{
  "nbformat": 4,
  "nbformat_minor": 0,
  "metadata": {
    "colab": {
      "provenance": [],
      "authorship_tag": "ABX9TyM4VaJl7dCwVr3YR55m+x9b",
      "include_colab_link": true
    },
    "kernelspec": {
      "name": "python3",
      "display_name": "Python 3"
    },
    "language_info": {
      "name": "python"
    }
  },
  "cells": [
    {
      "cell_type": "markdown",
      "metadata": {
        "id": "view-in-github",
        "colab_type": "text"
      },
      "source": [
        "<a href=\"https://colab.research.google.com/github/Seboldju/OCR-Stromzaehler-Arbeitsdokument/blob/main/Basic_Framework.ipynb\" target=\"_parent\"><img src=\"https://colab.research.google.com/assets/colab-badge.svg\" alt=\"Open In Colab\"/></a>"
      ]
    },
    {
      "cell_type": "code",
      "execution_count": null,
      "metadata": {
        "id": "gQ0MnJi-CpqQ"
      },
      "outputs": [],
      "source": [
        "#Install packages\n",
        "\n",
        "from keras.models import Sequential\n",
        "from keras.layers import Dense, Conv2D, Flatten\n",
        "from keras.utils import to_categorical\n",
        "from sklearn.model_selection import train_test_split\n",
        "import cv2\n",
        "import os\n",
        "import numpy as np\n",
        "import pandas as pd\n",
        "\n",
        "#Load data\n",
        "\n",
        "# Load labels\n",
        "labels = pd.read_csv('labels.csv')\n",
        "\n",
        "\n",
        "# Load images\n",
        "X = []\n",
        "y = []\n",
        "for _, row in labels.iterrows():\n",
        "    img = cv2.imread(row['filename'])\n",
        "    X.append(img)\n",
        "    y.append(row['label'])\n",
        "\n",
        "#Convert data\n",
        "\n",
        "X = np.array(X) / 255\n",
        "y = np.array(y)\n",
        "\n",
        "#Reshape data\n",
        "\n",
        "X = X.reshape(-1,28,28,1)\n",
        "\n",
        "#Training\n",
        "\n",
        "# One-hot encode target column\n",
        "y = to_categorical(y)\n",
        "\n",
        "\n",
        "# Training-Test-Split\n",
        "X_train, X_test, y_train, y_test = train_test_split(X, y, test_size=0.2)\n",
        "\n",
        "\n",
        "# Create the model\n",
        "model = Sequential()\n",
        "\n",
        "\n",
        "# Define model layers\n",
        "model.add(Conv2D(64, kernel_size=3, activation='relu', input_shape=(28,28,1)))\n",
        "model.add(Conv2D(32, kernel_size=3, activation='relu'))\n",
        "model.add(Flatten())\n",
        "model.add(Dense(10, activation='softmax'))\n",
        "\n",
        "\n",
        "# Compile model\n",
        "model.compile(optimizer='adam', loss='categorical_crossentropy', metrics=['accuracy'])\n",
        "\n",
        "\n",
        "# Train model\n",
        "model.fit(X_train, y_train, validation_data=(X_test, y_test), epochs=3)"
      ]
    }
  ]
}