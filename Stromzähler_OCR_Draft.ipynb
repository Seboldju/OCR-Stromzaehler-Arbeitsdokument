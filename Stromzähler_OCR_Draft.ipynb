{
  "nbformat": 4,
  "nbformat_minor": 0,
  "metadata": {
    "colab": {
      "provenance": [],
      "authorship_tag": "ABX9TyM+jOoIi+yLj5p+T/lTynKr",
      "include_colab_link": true
    },
    "kernelspec": {
      "name": "python3",
      "display_name": "Python 3"
    },
    "language_info": {
      "name": "python"
    }
  },
  "cells": [
    {
      "cell_type": "markdown",
      "metadata": {
        "id": "view-in-github",
        "colab_type": "text"
      },
      "source": [
        "<a href=\"https://colab.research.google.com/github/Seboldju/OCR-Stromzaehler-Arbeitsdokument/blob/main/Stromz%C3%A4hler_OCR_Draft.ipynb\" target=\"_parent\"><img src=\"https://colab.research.google.com/assets/colab-badge.svg\" alt=\"Open In Colab\"/></a>"
      ]
    },
    {
      "cell_type": "markdown",
      "source": [
        "Installation von OCR"
      ],
      "metadata": {
        "id": "ehQcRihba8wI"
      }
    },
    {
      "cell_type": "code",
      "source": [
        "brew install tesseract\n"
      ],
      "metadata": {
        "id": "4d69RZiFbGyT"
      },
      "execution_count": null,
      "outputs": []
    },
    {
      "cell_type": "markdown",
      "source": [
        "Bild aus Ordner einlesen"
      ],
      "metadata": {
        "id": "Ug2upDc7bIMc"
      }
    },
    {
      "cell_type": "code",
      "source": [
        "import cv2\n",
        "import os\n",
        "\n",
        "def load_images_from_folder(folder):\n",
        "    images = []\n",
        "    for filename in os.listdir(folder):\n",
        "        if filename.endswith(\".jpeg\"):\n",
        "            img = cv2.imread(os.path.join(folder, filename))\n",
        "            if img is not None:\n",
        "                images.append(img)\n",
        "    return images\n",
        "\n",
        "folder_path = 'path/to/your/folder'\n",
        "images = load_images_from_folder(folder_path)\n"
      ],
      "metadata": {
        "id": "7AygMgS0bOKj"
      },
      "execution_count": null,
      "outputs": []
    },
    {
      "cell_type": "markdown",
      "source": [
        "Bild in Graustufen umwandeln"
      ],
      "metadata": {
        "id": "jYi0-bhCbUxE"
      }
    },
    {
      "cell_type": "code",
      "source": [
        "gray_images = [cv2.cvtColor(img, cv2.COLOR_BGR2GRAY) for img in images]\n"
      ],
      "metadata": {
        "id": "vA_caT4IbWkc"
      },
      "execution_count": null,
      "outputs": []
    },
    {
      "cell_type": "markdown",
      "source": [
        "Bild entzerren"
      ],
      "metadata": {
        "id": "F239FQcjbXYg"
      }
    },
    {
      "cell_type": "code",
      "source": [
        "def rotate_image(image, angle):\n",
        "    (h, w) = image.shape[:2]\n",
        "    center = (w / 2, h / 2)\n",
        "    M = cv2.getRotationMatrix2D(center, angle, 1.0)\n",
        "    rotated = cv2.warpAffine(image, M, (w, h))\n",
        "    return rotated\n",
        "\n",
        "rotated_images = [rotate_image(img, 270) for img in gray_images]  # Beispiel für 270 Grad Rotation\n"
      ],
      "metadata": {
        "id": "pJahX3oybaph"
      },
      "execution_count": null,
      "outputs": []
    },
    {
      "cell_type": "markdown",
      "source": [
        "Erkennung der Kanten"
      ],
      "metadata": {
        "id": "8H-52r7hbboR"
      }
    },
    {
      "cell_type": "code",
      "source": [
        "edges_images = [cv2.Canny(img, 50, 150) for img in rotated_images]\n"
      ],
      "metadata": {
        "id": "anEwdZ7JbfGR"
      },
      "execution_count": null,
      "outputs": []
    },
    {
      "cell_type": "markdown",
      "source": [
        "Finden von Konturen"
      ],
      "metadata": {
        "id": "9rZV3UgpbgBx"
      }
    },
    {
      "cell_type": "code",
      "source": [
        "contours_list = []\n",
        "for edges in edges_images:\n",
        "    contours, _ = cv2.findContours(edges, cv2.RETR_EXTERNAL, cv2.CHAIN_APPROX_SIMPLE)\n",
        "    contours_list.append(contours)\n"
      ],
      "metadata": {
        "id": "N4fiBEzAbjzd"
      },
      "execution_count": null,
      "outputs": []
    },
    {
      "cell_type": "markdown",
      "source": [
        "Ziffern aus dem Bild ausschneiden"
      ],
      "metadata": {
        "id": "WQimxdixbo-2"
      }
    },
    {
      "cell_type": "code",
      "source": [
        "digit_images_list = []\n",
        "for i, contours in enumerate(contours_list):\n",
        "    digit_images = []\n",
        "    for contour in contours:\n",
        "        x, y, w, h = cv2.boundingRect(contour)\n",
        "        if w > 15 and h > 30:  # Filter für Größe der Ziffern\n",
        "            digit_images.append(rotated_images[i][y:y+h, x:x+w])\n",
        "    digit_images_list.append(digit_images)\n"
      ],
      "metadata": {
        "id": "AxtAHl0NbySf"
      },
      "execution_count": null,
      "outputs": []
    },
    {
      "cell_type": "markdown",
      "source": [
        "OCR und Ziffernerkennung"
      ],
      "metadata": {
        "id": "OSQJA0Kub0c9"
      }
    },
    {
      "cell_type": "code",
      "source": [
        "import pytesseract\n",
        "\n",
        "all_digits = []\n",
        "for digit_images in digit_images_list:\n",
        "    digits = []\n",
        "    for digit_image in digit_images:\n",
        "        digit = pytesseract.image_to_string(digit_image, config='--psm 10')\n",
        "        digits.append(digit.strip())\n",
        "    all_digits.append(digits)\n",
        "\n",
        "for i, digits in enumerate(all_digits):\n",
        "    print(f\"Erkannte Ziffern für Bild {i}: {digits}\")\n"
      ],
      "metadata": {
        "id": "oXnhcVpFb5xM"
      },
      "execution_count": null,
      "outputs": []
    },
    {
      "cell_type": "markdown",
      "source": [
        "Speicherung der Ergebnisse als Datei"
      ],
      "metadata": {
        "id": "8PEK0ndSb-rt"
      }
    },
    {
      "cell_type": "code",
      "source": [
        "import csv\n",
        "\n",
        "with open('results.csv', 'w', newline='') as csvfile:\n",
        "    writer = csv.writer(csvfile)\n",
        "    writer.writerow(['Bild', 'Erkannte Ziffern'])\n",
        "    for i, digits in enumerate(all_digits):\n",
        "        writer.writerow([i, ''.join(digits)])\n"
      ],
      "metadata": {
        "id": "FgHvofV5cArA"
      },
      "execution_count": null,
      "outputs": []
    }
  ]
}