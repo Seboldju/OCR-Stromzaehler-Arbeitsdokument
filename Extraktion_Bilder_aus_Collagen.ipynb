{
  "nbformat": 4,
  "nbformat_minor": 0,
  "metadata": {
    "colab": {
      "provenance": [],
      "authorship_tag": "ABX9TyOVFLpmY0R+49lPoRl+0yGA",
      "include_colab_link": true
    },
    "kernelspec": {
      "name": "python3",
      "display_name": "Python 3"
    },
    "language_info": {
      "name": "python"
    }
  },
  "cells": [
    {
      "cell_type": "markdown",
      "metadata": {
        "id": "view-in-github",
        "colab_type": "text"
      },
      "source": [
        "<a href=\"https://colab.research.google.com/github/Seboldju/OCR-Stromzaehler-Arbeitsdokument/blob/main/Extraktion_Bilder_aus_Collagen.ipynb\" target=\"_parent\"><img src=\"https://colab.research.google.com/assets/colab-badge.svg\" alt=\"Open In Colab\"/></a>"
      ]
    },
    {
      "cell_type": "code",
      "execution_count": 1,
      "metadata": {
        "colab": {
          "base_uri": "https://localhost:8080/"
        },
        "id": "j9l6C9j-qAh9",
        "outputId": "68146be1-174d-44a2-f0a7-33b29b4fe266"
      },
      "outputs": [
        {
          "output_type": "stream",
          "name": "stdout",
          "text": [
            "Bild 1 gespeichert: extracted_images/meter_1.jpg\n",
            "Bild 2 gespeichert: extracted_images/meter_2.jpg\n",
            "Bild 3 gespeichert: extracted_images/meter_3.jpg\n",
            "Bild 4 gespeichert: extracted_images/meter_4.jpg\n",
            "Bild 5 gespeichert: extracted_images/meter_5.jpg\n",
            "Bild 6 gespeichert: extracted_images/meter_6.jpg\n",
            "Alle Bilder wurden extrahiert und gespeichert.\n",
            "ZIP-Datei erstellt: extracted_images.zip\n",
            "Die ZIP-Datei wurde zum Herunterladen vorbereitet: /mnt/data/extracted_images.zip\n"
          ]
        }
      ],
      "source": [
        "import cv2\n",
        "import numpy as np\n",
        "import os\n",
        "import zipfile\n",
        "import shutil\n",
        "\n",
        "# Laden der Collage (Datei wurde zuvor in Collab hochgeladen)\n",
        "image_path = '/content/1-s2.0-S235248471930174X-gr7_lrg.jpg'\n",
        "large_image = cv2.imread(image_path)\n",
        "\n",
        "# Überprüfen, ob die Collage erfolgreich geladen wurde\n",
        "if large_image is None:\n",
        "    raise FileNotFoundError(f\"Das Bild konnte nicht geladen werden. Überprüfe den Pfad: {image_path}\")\n",
        "\n",
        "# Konvertierung des Bildes in Graustufen\n",
        "gray_image = cv2.cvtColor(large_image, cv2.COLOR_BGR2GRAY)\n",
        "\n",
        "# Thresholding, um die Stromzählerbilder vom Hintergrund zu trennen\n",
        "_, thresh = cv2.threshold(gray_image, 240, 255, cv2.THRESH_BINARY_INV)\n",
        "\n",
        "# Auffinden der Konturen der Stromzählerbilder\n",
        "contours, _ = cv2.findContours(thresh, cv2.RETR_EXTERNAL, cv2.CHAIN_APPROX_SIMPLE)\n",
        "\n",
        "# Erstellung eines Verzeichnisses (extracted_images), zum Speichern der einzelnen Bilder\n",
        "output_dir = 'extracted_images'\n",
        "if not os.path.exists(output_dir):\n",
        "    os.makedirs(output_dir)\n",
        "\n",
        "# Extraktion und Speicherung jedes gefundenen Bildes im Ordner extracted_images\n",
        "for i, contour in enumerate(contours):\n",
        "    x, y, w, h = cv2.boundingRect(contour)\n",
        "    cropped_image = large_image[y:y+h, x:x+w]\n",
        "    output_path = os.path.join(output_dir, f'meter_{i+1}.jpg')\n",
        "    cv2.imwrite(output_path, cropped_image)\n",
        "    print(f'Bild {i+1} gespeichert: {output_path}')\n",
        "\n",
        "print('Alle Bilder wurden extrahiert und gespeichert.')\n",
        "\n",
        "# Erstellen einer ZIP-Datei aus dem Ordner\n",
        "zip_file = 'extracted_images.zip'\n",
        "with zipfile.ZipFile(zip_file, 'w') as zipf:\n",
        "    for root, dirs, files in os.walk(output_dir):\n",
        "        for file in files:\n",
        "            zipf.write(os.path.join(root, file), os.path.relpath(os.path.join(root, file), output_dir))\n",
        "\n",
        "print(f'ZIP-Datei erstellt: {zip_file}')\n",
        "\n",
        "# Sicherstellung, dass der Zielpfad existiert\n",
        "target_dir = '/mnt/data/'\n",
        "if not os.path.exists(target_dir):\n",
        "    os.makedirs(target_dir)\n",
        "\n",
        "# Kopieren der ZIP-Datei in das Verzeichnis, das zum Herunterladen verwendet wird\n",
        "shutil.copy(zip_file, target_dir + zip_file)\n",
        "\n",
        "print(f'Die ZIP-Datei wurde zum Herunterladen vorbereitet: {target_dir}{zip_file}')"
      ]
    },
    {
      "cell_type": "markdown",
      "source": [
        "Anschließend: Download der zip-Datei und händische Bereinigung der Bilder (es wurden einige zusätzliche Bilder erkannt, die gar nicht existierten). So wurden erfolgreich aus 5 Collagen 5 Ordner mit einzelnen Bilddateien von Stromzählern extrahiert"
      ],
      "metadata": {
        "id": "5yZCyvYeqSuq"
      }
    }
  ]
}